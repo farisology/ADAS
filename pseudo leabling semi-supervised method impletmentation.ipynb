{
 "cells": [
  {
   "cell_type": "markdown",
   "metadata": {
    "_cell_guid": "cf4c8e1f-82c8-4673-a4d6-920b04bd983a",
    "_uuid": "388b19a57e5cd220dce0e67819cc7cbcf5bcaa58"
   },
   "source": [
    "**Import the relevant libraries**\n",
    "* numpy for linear algebra and math \n",
    "* pandas for interacting with data and manipulation\n",
    "* seaborn for visualization"
   ]
  },
  {
   "cell_type": "code",
   "execution_count": 1,
   "metadata": {
    "_cell_guid": "d32035c8-5bae-4c62-a1a9-bc827cf16e1d",
    "_uuid": "e9494a566c2ab8c912bcbece638b4558336414b9"
   },
   "outputs": [],
   "source": [
    "import numpy as np # linear algebra\n",
    "import pandas as pd # data processing, CSV file I/O (e.g. pd.read_csv)\n",
    "import seaborn as sns"
   ]
  },
  {
   "cell_type": "markdown",
   "metadata": {
    "_cell_guid": "bd93833b-b882-44c3-8dfa-0b54474ffec5",
    "_uuid": "77b237859dc2660fd5274bf670f1b8653dd1ec8a"
   },
   "source": [
    "***Reading the csv files for train and test data***"
   ]
  },
  {
   "cell_type": "code",
   "execution_count": 2,
   "metadata": {
    "_cell_guid": "1740efdd-c1b2-4ea4-8d42-d4363be27d19",
    "_uuid": "7c2b62ede391cb9aa20e71fd5751d718a4595770"
   },
   "outputs": [
    {
     "data": {
      "text/html": [
       "<div>\n",
       "<style scoped>\n",
       "    .dataframe tbody tr th:only-of-type {\n",
       "        vertical-align: middle;\n",
       "    }\n",
       "\n",
       "    .dataframe tbody tr th {\n",
       "        vertical-align: top;\n",
       "    }\n",
       "\n",
       "    .dataframe thead th {\n",
       "        text-align: right;\n",
       "    }\n",
       "</style>\n",
       "<table border=\"1\" class=\"dataframe\">\n",
       "  <thead>\n",
       "    <tr style=\"text-align: right;\">\n",
       "      <th></th>\n",
       "      <th>PassengerId</th>\n",
       "      <th>Survived</th>\n",
       "      <th>Pclass</th>\n",
       "      <th>Name</th>\n",
       "      <th>Sex</th>\n",
       "      <th>Age</th>\n",
       "      <th>SibSp</th>\n",
       "      <th>Parch</th>\n",
       "      <th>Ticket</th>\n",
       "      <th>Fare</th>\n",
       "      <th>Cabin</th>\n",
       "      <th>Embarked</th>\n",
       "    </tr>\n",
       "  </thead>\n",
       "  <tbody>\n",
       "    <tr>\n",
       "      <th>0</th>\n",
       "      <td>1</td>\n",
       "      <td>0</td>\n",
       "      <td>3</td>\n",
       "      <td>Braund, Mr. Owen Harris</td>\n",
       "      <td>male</td>\n",
       "      <td>22.0</td>\n",
       "      <td>1</td>\n",
       "      <td>0</td>\n",
       "      <td>A/5 21171</td>\n",
       "      <td>7.2500</td>\n",
       "      <td>NaN</td>\n",
       "      <td>S</td>\n",
       "    </tr>\n",
       "    <tr>\n",
       "      <th>1</th>\n",
       "      <td>2</td>\n",
       "      <td>1</td>\n",
       "      <td>1</td>\n",
       "      <td>Cumings, Mrs. John Bradley (Florence Briggs Th...</td>\n",
       "      <td>female</td>\n",
       "      <td>38.0</td>\n",
       "      <td>1</td>\n",
       "      <td>0</td>\n",
       "      <td>PC 17599</td>\n",
       "      <td>71.2833</td>\n",
       "      <td>C85</td>\n",
       "      <td>C</td>\n",
       "    </tr>\n",
       "    <tr>\n",
       "      <th>2</th>\n",
       "      <td>3</td>\n",
       "      <td>1</td>\n",
       "      <td>3</td>\n",
       "      <td>Heikkinen, Miss. Laina</td>\n",
       "      <td>female</td>\n",
       "      <td>26.0</td>\n",
       "      <td>0</td>\n",
       "      <td>0</td>\n",
       "      <td>STON/O2. 3101282</td>\n",
       "      <td>7.9250</td>\n",
       "      <td>NaN</td>\n",
       "      <td>S</td>\n",
       "    </tr>\n",
       "    <tr>\n",
       "      <th>3</th>\n",
       "      <td>4</td>\n",
       "      <td>1</td>\n",
       "      <td>1</td>\n",
       "      <td>Futrelle, Mrs. Jacques Heath (Lily May Peel)</td>\n",
       "      <td>female</td>\n",
       "      <td>35.0</td>\n",
       "      <td>1</td>\n",
       "      <td>0</td>\n",
       "      <td>113803</td>\n",
       "      <td>53.1000</td>\n",
       "      <td>C123</td>\n",
       "      <td>S</td>\n",
       "    </tr>\n",
       "    <tr>\n",
       "      <th>4</th>\n",
       "      <td>5</td>\n",
       "      <td>0</td>\n",
       "      <td>3</td>\n",
       "      <td>Allen, Mr. William Henry</td>\n",
       "      <td>male</td>\n",
       "      <td>35.0</td>\n",
       "      <td>0</td>\n",
       "      <td>0</td>\n",
       "      <td>373450</td>\n",
       "      <td>8.0500</td>\n",
       "      <td>NaN</td>\n",
       "      <td>S</td>\n",
       "    </tr>\n",
       "  </tbody>\n",
       "</table>\n",
       "</div>"
      ],
      "text/plain": [
       "   PassengerId  Survived  Pclass  \\\n",
       "0            1         0       3   \n",
       "1            2         1       1   \n",
       "2            3         1       3   \n",
       "3            4         1       1   \n",
       "4            5         0       3   \n",
       "\n",
       "                                                Name     Sex   Age  SibSp  \\\n",
       "0                            Braund, Mr. Owen Harris    male  22.0      1   \n",
       "1  Cumings, Mrs. John Bradley (Florence Briggs Th...  female  38.0      1   \n",
       "2                             Heikkinen, Miss. Laina  female  26.0      0   \n",
       "3       Futrelle, Mrs. Jacques Heath (Lily May Peel)  female  35.0      1   \n",
       "4                           Allen, Mr. William Henry    male  35.0      0   \n",
       "\n",
       "   Parch            Ticket     Fare Cabin Embarked  \n",
       "0      0         A/5 21171   7.2500   NaN        S  \n",
       "1      0          PC 17599  71.2833   C85        C  \n",
       "2      0  STON/O2. 3101282   7.9250   NaN        S  \n",
       "3      0            113803  53.1000  C123        S  \n",
       "4      0            373450   8.0500   NaN        S  "
      ]
     },
     "execution_count": 2,
     "metadata": {},
     "output_type": "execute_result"
    }
   ],
   "source": [
    "# This creates a pandas dataframe and assigns it to the titanic variable.\n",
    "titanic = pd.read_csv(\"train.csv\")\n",
    "# Print the first 5 rows of the dataframe.\n",
    "titanic.head()"
   ]
  },
  {
   "cell_type": "markdown",
   "metadata": {
    "_cell_guid": "7ccc780d-541c-494b-a48c-86105d61b77b",
    "_uuid": "a075f40149606ecb663cdbc671f331d5744cbe7c"
   },
   "source": [
    "**We look at the details of the values and examine if there is any missing values**"
   ]
  },
  {
   "cell_type": "code",
   "execution_count": 3,
   "metadata": {
    "_cell_guid": "8ba4b500-fa2a-457f-ac05-6ddaacb7cfea",
    "_uuid": "8ad27c5bd144cb83c8e96b8b4a3f5c95f98bd845"
   },
   "outputs": [
    {
     "name": "stdout",
     "output_type": "stream",
     "text": [
      "<class 'pandas.core.frame.DataFrame'>\n",
      "RangeIndex: 891 entries, 0 to 890\n",
      "Data columns (total 12 columns):\n",
      "PassengerId    891 non-null int64\n",
      "Survived       891 non-null int64\n",
      "Pclass         891 non-null int64\n",
      "Name           891 non-null object\n",
      "Sex            891 non-null object\n",
      "Age            714 non-null float64\n",
      "SibSp          891 non-null int64\n",
      "Parch          891 non-null int64\n",
      "Ticket         891 non-null object\n",
      "Fare           891 non-null float64\n",
      "Cabin          204 non-null object\n",
      "Embarked       889 non-null object\n",
      "dtypes: float64(2), int64(5), object(5)\n",
      "memory usage: 83.6+ KB\n"
     ]
    }
   ],
   "source": [
    "#the info method displays the data type and null not null and how many entries there\n",
    "titanic.info()"
   ]
  },
  {
   "cell_type": "markdown",
   "metadata": {
    "_cell_guid": "5b2d47ac-b705-4863-bdab-40203225b9d7",
    "_uuid": "5d2a710446625c7282d318da442ad52140d76196"
   },
   "source": [
    "***As we can see the total number of records is 891 and the followsing attributes showing missing values:***    \n",
    "    *     Age            714\n",
    "    *     Cabine         204\n",
    "    *     Embarked       889\n",
    "*Now we have to find out how to handle the missing values, some of the methods are:*\n",
    "    *     Eleminating missing values\n",
    "    *     Replace missing values with the mean value"
   ]
  },
  {
   "cell_type": "code",
   "execution_count": 4,
   "metadata": {
    "_cell_guid": "8fe24394-1648-4b0f-a897-a684842712cd",
    "_uuid": "6c7d23eb5ea9604702b68576a553d86545d33b75"
   },
   "outputs": [
    {
     "data": {
      "text/plain": [
       "PassengerId      0\n",
       "Survived         0\n",
       "Pclass           0\n",
       "Name             0\n",
       "Sex              0\n",
       "Age            177\n",
       "SibSp            0\n",
       "Parch            0\n",
       "Ticket           0\n",
       "Fare             0\n",
       "Cabin          687\n",
       "Embarked         2\n",
       "dtype: int64"
      ]
     },
     "execution_count": 4,
     "metadata": {},
     "output_type": "execute_result"
    }
   ],
   "source": [
    "#This can tell us how many missing values are there in the dataset\n",
    "titanic.isnull().sum()\n",
    "#Cabin seems to have the most of the missing values \n",
    "#Age has 177, we should know that replacing missing ages by the mean or median will result in\n",
    "#a less accurate estimations"
   ]
  },
  {
   "cell_type": "markdown",
   "metadata": {
    "_cell_guid": "f7c2b252-fa6d-48ac-afc4-6f4c5b69c14f",
    "_uuid": "53251e231dac91aed1e44661551a539bf9d89cc1"
   },
   "source": [
    "**We drop the irrelevant attributes for our task here**\n",
    "* Passinger id\n",
    "* Passinger Name\n",
    "* Ticket\n",
    "* Cabin "
   ]
  },
  {
   "cell_type": "code",
   "execution_count": 5,
   "metadata": {
    "_cell_guid": "0fc9154c-26f7-4c79-9463-f647a1f35e3f",
    "_uuid": "1de12835a74427a6e61b986906bdc0b4f2f11fb5"
   },
   "outputs": [
    {
     "data": {
      "text/html": [
       "<div>\n",
       "<style>\n",
       "    .dataframe thead tr:only-child th {\n",
       "        text-align: right;\n",
       "    }\n",
       "\n",
       "    .dataframe thead th {\n",
       "        text-align: left;\n",
       "    }\n",
       "\n",
       "    .dataframe tbody tr th {\n",
       "        vertical-align: top;\n",
       "    }\n",
       "</style>\n",
       "<table border=\"1\" class=\"dataframe\">\n",
       "  <thead>\n",
       "    <tr style=\"text-align: right;\">\n",
       "      <th></th>\n",
       "      <th>Survived</th>\n",
       "      <th>Pclass</th>\n",
       "      <th>Sex</th>\n",
       "      <th>Age</th>\n",
       "      <th>SibSp</th>\n",
       "      <th>Parch</th>\n",
       "      <th>Fare</th>\n",
       "      <th>Embarked</th>\n",
       "    </tr>\n",
       "  </thead>\n",
       "  <tbody>\n",
       "    <tr>\n",
       "      <th>0</th>\n",
       "      <td>0</td>\n",
       "      <td>3</td>\n",
       "      <td>male</td>\n",
       "      <td>22.0</td>\n",
       "      <td>1</td>\n",
       "      <td>0</td>\n",
       "      <td>7.2500</td>\n",
       "      <td>S</td>\n",
       "    </tr>\n",
       "    <tr>\n",
       "      <th>1</th>\n",
       "      <td>1</td>\n",
       "      <td>1</td>\n",
       "      <td>female</td>\n",
       "      <td>38.0</td>\n",
       "      <td>1</td>\n",
       "      <td>0</td>\n",
       "      <td>71.2833</td>\n",
       "      <td>C</td>\n",
       "    </tr>\n",
       "    <tr>\n",
       "      <th>2</th>\n",
       "      <td>1</td>\n",
       "      <td>3</td>\n",
       "      <td>female</td>\n",
       "      <td>26.0</td>\n",
       "      <td>0</td>\n",
       "      <td>0</td>\n",
       "      <td>7.9250</td>\n",
       "      <td>S</td>\n",
       "    </tr>\n",
       "    <tr>\n",
       "      <th>3</th>\n",
       "      <td>1</td>\n",
       "      <td>1</td>\n",
       "      <td>female</td>\n",
       "      <td>35.0</td>\n",
       "      <td>1</td>\n",
       "      <td>0</td>\n",
       "      <td>53.1000</td>\n",
       "      <td>S</td>\n",
       "    </tr>\n",
       "    <tr>\n",
       "      <th>4</th>\n",
       "      <td>0</td>\n",
       "      <td>3</td>\n",
       "      <td>male</td>\n",
       "      <td>35.0</td>\n",
       "      <td>0</td>\n",
       "      <td>0</td>\n",
       "      <td>8.0500</td>\n",
       "      <td>S</td>\n",
       "    </tr>\n",
       "  </tbody>\n",
       "</table>\n",
       "</div>"
      ],
      "text/plain": [
       "   Survived  Pclass     Sex   Age  SibSp  Parch     Fare Embarked\n",
       "0         0       3    male  22.0      1      0   7.2500        S\n",
       "1         1       1  female  38.0      1      0  71.2833        C\n",
       "2         1       3  female  26.0      0      0   7.9250        S\n",
       "3         1       1  female  35.0      1      0  53.1000        S\n",
       "4         0       3    male  35.0      0      0   8.0500        S"
      ]
     },
     "execution_count": 5,
     "metadata": {},
     "output_type": "execute_result"
    }
   ],
   "source": [
    "df = titanic.drop(['PassengerId','Name', 'Ticket', 'Cabin'], axis =1)\n",
    "df.head(5)"
   ]
  },
  {
   "cell_type": "markdown",
   "metadata": {
    "_cell_guid": "edb8624c-09ee-423f-951a-3c70cff43a38",
    "_uuid": "6698ec0f54ffd20613c9e80cf9c7994b01a140e6"
   },
   "source": [
    "*If we look close into the missing values for the embarked we can see the possibility to estimate the missing values. Because there are only 2 missing values and there are no other missing values for the two records.*"
   ]
  },
  {
   "cell_type": "code",
   "execution_count": 6,
   "metadata": {
    "_cell_guid": "0962429e-d716-4975-b449-ac685f4f6b27",
    "_uuid": "94840dc6301e7960f4a4f85721c2350fd4f02fb9"
   },
   "outputs": [
    {
     "data": {
      "text/html": [
       "<div>\n",
       "<style>\n",
       "    .dataframe thead tr:only-child th {\n",
       "        text-align: right;\n",
       "    }\n",
       "\n",
       "    .dataframe thead th {\n",
       "        text-align: left;\n",
       "    }\n",
       "\n",
       "    .dataframe tbody tr th {\n",
       "        vertical-align: top;\n",
       "    }\n",
       "</style>\n",
       "<table border=\"1\" class=\"dataframe\">\n",
       "  <thead>\n",
       "    <tr style=\"text-align: right;\">\n",
       "      <th></th>\n",
       "      <th>Survived</th>\n",
       "      <th>Pclass</th>\n",
       "      <th>Sex</th>\n",
       "      <th>Age</th>\n",
       "      <th>SibSp</th>\n",
       "      <th>Parch</th>\n",
       "      <th>Fare</th>\n",
       "      <th>Embarked</th>\n",
       "    </tr>\n",
       "  </thead>\n",
       "  <tbody>\n",
       "    <tr>\n",
       "      <th>61</th>\n",
       "      <td>1</td>\n",
       "      <td>1</td>\n",
       "      <td>female</td>\n",
       "      <td>38.0</td>\n",
       "      <td>0</td>\n",
       "      <td>0</td>\n",
       "      <td>80.0</td>\n",
       "      <td>NaN</td>\n",
       "    </tr>\n",
       "    <tr>\n",
       "      <th>829</th>\n",
       "      <td>1</td>\n",
       "      <td>1</td>\n",
       "      <td>female</td>\n",
       "      <td>62.0</td>\n",
       "      <td>0</td>\n",
       "      <td>0</td>\n",
       "      <td>80.0</td>\n",
       "      <td>NaN</td>\n",
       "    </tr>\n",
       "  </tbody>\n",
       "</table>\n",
       "</div>"
      ],
      "text/plain": [
       "     Survived  Pclass     Sex   Age  SibSp  Parch  Fare Embarked\n",
       "61          1       1  female  38.0      0      0  80.0      NaN\n",
       "829         1       1  female  62.0      0      0  80.0      NaN"
      ]
     },
     "execution_count": 6,
     "metadata": {},
     "output_type": "execute_result"
    }
   ],
   "source": [
    "df[df['Embarked'].isnull()]"
   ]
  },
  {
   "cell_type": "markdown",
   "metadata": {
    "_cell_guid": "17e15ee0-83cc-4a4d-ab8f-bd818aae40cf",
    "_uuid": "ce7617b164cc5838bfc35608eb6ff356b4246a6b"
   },
   "source": [
    "**Observations:**\n",
    "* Same passingers are of class \"1\"\n",
    "* Fare for both is \"80\"\n",
    "*Lets look at the boxplot below to guess where they embarked from*"
   ]
  },
  {
   "cell_type": "code",
   "execution_count": 7,
   "metadata": {
    "_cell_guid": "1739d023-16be-4d98-b49e-db82a48beb96",
    "_uuid": "9eb0bc00a3805335e34d2d77ab84937e43c57dca"
   },
   "outputs": [
    {
     "data": {
      "text/plain": [
       "<matplotlib.axes._subplots.AxesSubplot at 0x7f754fd01eb8>"
      ]
     },
     "execution_count": 7,
     "metadata": {},
     "output_type": "execute_result"
    },
    {
     "data": {
      "image/png": "[encoded data removed]",
      "text/plain": [
       "<matplotlib.figure.Figure at 0x7f754fcbb588>"
      ]
     },
     "metadata": {},
     "output_type": "display_data"
    }
   ],
   "source": [
    "sns.boxplot(x=\"Embarked\", y=\"Fare\", hue=\"Pclass\", data=df)"
   ]
  },
  {
   "cell_type": "markdown",
   "metadata": {
    "_cell_guid": "e1deef14-58fd-4353-900a-845c9794731c",
    "_uuid": "1a3051be06caef75616fd73f136d88c888acbfe1"
   },
   "source": [
    "**We can observe the following:**\n",
    "* First class tickets are mostly at embarked \"S\" and \"C\" (the blue box)\n",
    "* First class median line is crossing at Fare value \"80\" at Embarked \"C\" "
   ]
  },
  {
   "cell_type": "code",
   "execution_count": 8,
   "metadata": {
    "_cell_guid": "8a642284-0586-468c-b90f-63dddafdd018",
    "_uuid": "4fd46229a2400db3aa8e0aac31b983c7e219a646"
   },
   "outputs": [
    {
     "data": {
      "text/html": [
       "<div>\n",
       "<style>\n",
       "    .dataframe thead tr:only-child th {\n",
       "        text-align: right;\n",
       "    }\n",
       "\n",
       "    .dataframe thead th {\n",
       "        text-align: left;\n",
       "    }\n",
       "\n",
       "    .dataframe tbody tr th {\n",
       "        vertical-align: top;\n",
       "    }\n",
       "</style>\n",
       "<table border=\"1\" class=\"dataframe\">\n",
       "  <thead>\n",
       "    <tr style=\"text-align: right;\">\n",
       "      <th></th>\n",
       "      <th>Survived</th>\n",
       "      <th>Pclass</th>\n",
       "      <th>Sex</th>\n",
       "      <th>Age</th>\n",
       "      <th>SibSp</th>\n",
       "      <th>Parch</th>\n",
       "      <th>Fare</th>\n",
       "      <th>Embarked</th>\n",
       "    </tr>\n",
       "  </thead>\n",
       "  <tbody>\n",
       "    <tr>\n",
       "      <th>0</th>\n",
       "      <td>0</td>\n",
       "      <td>3</td>\n",
       "      <td>male</td>\n",
       "      <td>22.0</td>\n",
       "      <td>1</td>\n",
       "      <td>0</td>\n",
       "      <td>7.2500</td>\n",
       "      <td>S</td>\n",
       "    </tr>\n",
       "    <tr>\n",
       "      <th>1</th>\n",
       "      <td>1</td>\n",
       "      <td>1</td>\n",
       "      <td>female</td>\n",
       "      <td>38.0</td>\n",
       "      <td>1</td>\n",
       "      <td>0</td>\n",
       "      <td>71.2833</td>\n",
       "      <td>C</td>\n",
       "    </tr>\n",
       "    <tr>\n",
       "      <th>2</th>\n",
       "      <td>1</td>\n",
       "      <td>3</td>\n",
       "      <td>female</td>\n",
       "      <td>26.0</td>\n",
       "      <td>0</td>\n",
       "      <td>0</td>\n",
       "      <td>7.9250</td>\n",
       "      <td>S</td>\n",
       "    </tr>\n",
       "    <tr>\n",
       "      <th>3</th>\n",
       "      <td>1</td>\n",
       "      <td>1</td>\n",
       "      <td>female</td>\n",
       "      <td>35.0</td>\n",
       "      <td>1</td>\n",
       "      <td>0</td>\n",
       "      <td>53.1000</td>\n",
       "      <td>S</td>\n",
       "    </tr>\n",
       "    <tr>\n",
       "      <th>4</th>\n",
       "      <td>0</td>\n",
       "      <td>3</td>\n",
       "      <td>male</td>\n",
       "      <td>35.0</td>\n",
       "      <td>0</td>\n",
       "      <td>0</td>\n",
       "      <td>8.0500</td>\n",
       "      <td>S</td>\n",
       "    </tr>\n",
       "  </tbody>\n",
       "</table>\n",
       "</div>"
      ],
      "text/plain": [
       "   Survived  Pclass     Sex   Age  SibSp  Parch     Fare Embarked\n",
       "0         0       3    male  22.0      1      0   7.2500        S\n",
       "1         1       1  female  38.0      1      0  71.2833        C\n",
       "2         1       3  female  26.0      0      0   7.9250        S\n",
       "3         1       1  female  35.0      1      0  53.1000        S\n",
       "4         0       3    male  35.0      0      0   8.0500        S"
      ]
     },
     "execution_count": 8,
     "metadata": {},
     "output_type": "execute_result"
    }
   ],
   "source": [
    "# we replace the missing values in the embarked to \"C\"\n",
    "df[\"Embarked\"] = df[\"Embarked\"].fillna('C')\n",
    "df.head(5)"
   ]
  },
  {
   "cell_type": "code",
   "execution_count": 9,
   "metadata": {
    "_cell_guid": "8e292025-e8a1-4dcf-ba8e-870ec6d0ca42",
    "_uuid": "3a3115f16717c87023cb54a68d642160dcfd7416"
   },
   "outputs": [
    {
     "data": {
      "text/plain": [
       "<seaborn.axisgrid.FacetGrid at 0x7f754fcbba90>"
      ]
     },
     "execution_count": 9,
     "metadata": {},
     "output_type": "execute_result"
    },
    {
     "data": {
      "image/png": "[encoded data removed]",
      "text/plain": [
       "<matplotlib.figure.Figure at 0x7f754fcbbfd0>"
      ]
     },
     "metadata": {},
     "output_type": "display_data"
    }
   ],
   "source": [
    "sns.factorplot(x=\"Pclass\", y=\"Age\", hue=\"Sex\", data=df, size=6, kind=\"bar\", palette=\"muted\")"
   ]
  },
  {
   "cell_type": "code",
   "execution_count": 10,
   "metadata": {
    "_cell_guid": "20e51212-6f93-4c97-82ea-f86d3a1919ba",
    "_uuid": "d9a420b4265602abe939be19ce2cc3753140618a"
   },
   "outputs": [
    {
     "data": {
      "text/plain": [
       "<seaborn.axisgrid.FacetGrid at 0x7f754c793710>"
      ]
     },
     "execution_count": 10,
     "metadata": {},
     "output_type": "execute_result"
    },
    {
     "data": {
      "image/png": "[encoded data removed]",
      "text/plain": [
       "<matplotlib.figure.Figure at 0x7f754c718710>"
      ]
     },
     "metadata": {},
     "output_type": "display_data"
    }
   ],
   "source": [
    "sns.factorplot(x=\"Embarked\", y=\"Age\", hue=\"Sex\", data=df, size=6, kind=\"bar\", palette=\"muted\")"
   ]
  },
  {
   "cell_type": "code",
   "execution_count": 11,
   "metadata": {
    "_cell_guid": "196e2083-5d80-491c-bb92-e49c75eb55fe",
    "_uuid": "9dd4d57d17bfe640e8d450898d446388d75fc078"
   },
   "outputs": [
    {
     "data": {
      "text/plain": [
       "<matplotlib.axes._subplots.AxesSubplot at 0x7f754c7a7dd8>"
      ]
     },
     "execution_count": 11,
     "metadata": {},
     "output_type": "execute_result"
    },
    {
     "data": {
      "image/png": "[encoded data removed]",
      "text/plain": [
       "<matplotlib.figure.Figure at 0x7f754c61aac8>"
      ]
     },
     "metadata": {},
     "output_type": "display_data"
    }
   ],
   "source": [
    "sns.boxplot(x=\"Embarked\", y=\"Age\", hue=\"Pclass\", data=df)"
   ]
  },
  {
   "cell_type": "markdown",
   "metadata": {
    "_cell_guid": "537489cf-4a64-4d88-887f-1b969d0ed0f1",
    "_uuid": "2e5353e84a76dab4ff0cf32162e6c1b56d96696f"
   },
   "source": [
    "**There are several ways to estimate ages here, but what we can do is considering \n",
    "the median in each Embarked value. This would would mean we have to group Passingers\n",
    "by class then by embarked then take the Median age for each class in each embarked\n",
    "and fill the missing values with those medians.\n",
    "**"
   ]
  },
  {
   "cell_type": "markdown",
   "metadata": {
    "_cell_guid": "39afa856-22b4-487c-8dcb-0a7d24a32d64",
    "_uuid": "0badb5e7b68c39c38bec1de26fa2636df4480c10"
   },
   "source": [
    "**Embarked S**"
   ]
  },
  {
   "cell_type": "code",
   "execution_count": 12,
   "metadata": {
    "_cell_guid": "dd71b737-1dbb-4450-9873-eeaee86028f4",
    "_uuid": "a2cb90b7e948ebcd25acfd789c6e861c2b33a8b2"
   },
   "outputs": [
    {
     "name": "stdout",
     "output_type": "stream",
     "text": [
      "Median age of class  1  =  37.0\n",
      "Median age of class  2  =  30.0\n",
      "Median age of class  3  =  25.0\n"
     ]
    }
   ],
   "source": [
    "#Getting Embarked S data into separte frame and work to calculate Median for each class\n",
    "s = df.loc[df[\"Embarked\"] == \"S\"]\n",
    "v = [1, 2, 3]\n",
    "for i in v:\n",
    "    ss = s.where(s[\"Pclass\"] == i)\n",
    "    print (\"Median age of class \",i, \" = \",ss[\"Age\"].median())"
   ]
  },
  {
   "cell_type": "markdown",
   "metadata": {
    "_cell_guid": "1cc81537-c7bd-4e59-a7a0-1140e75be03c",
    "_uuid": "742f7f7731a88e8b5fb3d5f1e3c256b2cbe03405"
   },
   "source": [
    "**Embarked C**"
   ]
  },
  {
   "cell_type": "code",
   "execution_count": 13,
   "metadata": {
    "_cell_guid": "4e5412b3-af84-4587-9a3a-55ccabe4d111",
    "_uuid": "4cfde0bf558b96e3e5779411cc6bf21772a6bc1e"
   },
   "outputs": [
    {
     "name": "stdout",
     "output_type": "stream",
     "text": [
      "Median age of class  1  =  37.5\n",
      "Median age of class  2  =  25.0\n",
      "Median age of class  3  =  20.0\n"
     ]
    }
   ],
   "source": [
    "#Getting Embarked C data into separte frame and work to calculate Median for each class\n",
    "c = df.loc[df[\"Embarked\"] == \"C\"]\n",
    "v = [1, 2, 3]\n",
    "for i in v:\n",
    "    sc = c.where(c[\"Pclass\"] == i)\n",
    "    print (\"Median age of class \",i, \" = \",sc[\"Age\"].median())"
   ]
  },
  {
   "cell_type": "markdown",
   "metadata": {
    "_cell_guid": "f9c688eb-61d0-46cf-9dd8-c8473787d133",
    "_uuid": "74028b755b8bb192b7b8d186f61399bf8f6016cd"
   },
   "source": [
    "**Embarked Q**"
   ]
  },
  {
   "cell_type": "code",
   "execution_count": 14,
   "metadata": {
    "_cell_guid": "e0129d0c-6d10-46f3-b4e4-f55b7fdc5bbd",
    "_uuid": "25ebd23447d66bace52d507d0d761884e33c6768"
   },
   "outputs": [
    {
     "name": "stdout",
     "output_type": "stream",
     "text": [
      "Median age of class  1  =  38.5\n",
      "Median age of class  2  =  43.5\n",
      "Median age of class  3  =  21.5\n"
     ]
    }
   ],
   "source": [
    "#Getting Embarked Q data into separte frame and work to calculate Median for each class\n",
    "q = df.loc[df[\"Embarked\"] == \"Q\"]\n",
    "v = [1, 2, 3]\n",
    "for i in v:\n",
    "    sq = q.where(q[\"Pclass\"] == i)\n",
    "    print (\"Median age of class \",i, \" = \",sq[\"Age\"].median())"
   ]
  },
  {
   "cell_type": "markdown",
   "metadata": {
    "_cell_guid": "1e489872-0520-4853-bbe5-206dc53b8ed0",
    "_uuid": "f43ebb5fdd677b493b4144b9c43d8cda33a440c5"
   },
   "source": [
    "*Now that we know the median age in each class and Embark,\n",
    "our estimation can get much better for the missing ages.*\n",
    "\n",
    "**Fill missing values for each sub-dataframe then combine all the sub dataframes into one**"
   ]
  },
  {
   "cell_type": "code",
   "execution_count": 15,
   "metadata": {
    "_cell_guid": "b32d4068-9bcb-49f3-8eb8-1c06831f44c5",
    "_uuid": "c828a5f9e886f972bd6809044bd546f8079618b0",
    "collapsed": true
   },
   "outputs": [],
   "source": [
    "#Embark S\n",
    "s1 = df[(df[\"Pclass\"] == 1) & (df['Embarked'] == \"S\") & (df['Age'].isnull())].fillna(37)\n",
    "s2 = df[(df[\"Pclass\"] == 2) & (df['Embarked'] == \"S\") & (df['Age'].isnull())].fillna(30)\n",
    "s3 = df[(df[\"Pclass\"] == 3) & (df['Embarked'] == \"S\") & (df['Age'].isnull())].fillna(25)\n",
    "\n",
    "#Embark C\n",
    "c1 = df[(df[\"Pclass\"] == 1) & (df['Embarked'] == \"C\") & (df['Age'].isnull())].fillna(37.5)\n",
    "c2 = df[(df[\"Pclass\"] == 2) & (df['Embarked'] == \"C\") & (df['Age'].isnull())].fillna(25)\n",
    "c3 = df[(df[\"Pclass\"] == 3) & (df['Embarked'] == \"C\") & (df['Age'].isnull())].fillna(20)\n",
    "\n",
    "#Embark Q\n",
    "q1 = df[(df[\"Pclass\"] == 1) & (df['Embarked'] == \"Q\") & (df['Age'].isnull())].fillna(38.5)\n",
    "q2 = df[(df[\"Pclass\"] == 2) & (df['Embarked'] == \"Q\") & (df['Age'].isnull())].fillna(43.5)\n",
    "q3 = df[(df[\"Pclass\"] == 3) & (df['Embarked'] == \"Q\") & (df['Age'].isnull())].fillna(21.5)"
   ]
  },
  {
   "cell_type": "code",
   "execution_count": 16,
   "metadata": {
    "_cell_guid": "7a71c1fc-6e4c-4116-940f-fe7df5efdf73",
    "_uuid": "26ff1a97f8c767d029f8b984d13da995b6cfa2f7"
   },
   "outputs": [
    {
     "data": {
      "text/plain": [
       "177"
      ]
     },
     "execution_count": 16,
     "metadata": {},
     "output_type": "execute_result"
    }
   ],
   "source": [
    "#Concatinating all the sub-frames into one frame with replaced Age values\n",
    "scq = pd.concat([s1,s2,s3,c1,c2,c3,q1,q2,q3])\n",
    "len(scq) #177 rows which equals to the missing values in the age column"
   ]
  },
  {
   "cell_type": "code",
   "execution_count": 17,
   "metadata": {
    "_cell_guid": "0d3ab7d4-df48-40b9-abb2-18e721a4497f",
    "_uuid": "7dab04829a6354982ec63413f22b14308ec7789e",
    "collapsed": true
   },
   "outputs": [],
   "source": [
    "#We drop records of missing vlaues\n",
    "df = df.dropna(axis = 0, how = 'any')\n",
    "#we will be left with only records with non-null values"
   ]
  },
  {
   "cell_type": "code",
   "execution_count": 18,
   "metadata": {
    "_cell_guid": "3d10adbc-6a96-4f92-b14a-5f957e043319",
    "_uuid": "4d34a4f06ac45fc874a32c53ae0dde7d29578a2e"
   },
   "outputs": [
    {
     "name": "stdout",
     "output_type": "stream",
     "text": [
      "<class 'pandas.core.frame.DataFrame'>\n",
      "Int64Index: 891 entries, 0 to 828\n",
      "Data columns (total 8 columns):\n",
      "Survived    891 non-null int64\n",
      "Pclass      891 non-null int64\n",
      "Sex         891 non-null object\n",
      "Age         891 non-null float64\n",
      "SibSp       891 non-null int64\n",
      "Parch       891 non-null int64\n",
      "Fare        891 non-null float64\n",
      "Embarked    891 non-null object\n",
      "dtypes: float64(2), int64(4), object(2)\n",
      "memory usage: 62.6+ KB\n"
     ]
    }
   ],
   "source": [
    "#Now we concatinate the scq (replaced values frame) with main frame\n",
    "data = pd.concat([df, scq])\n",
    "\n",
    "#Checking the info to make sure we have same number of records as the original one we started with\n",
    "data.info()\n"
   ]
  },
  {
   "cell_type": "markdown",
   "metadata": {
    "_cell_guid": "e5d937af-4074-4a7d-8630-41946ab6b17a",
    "_uuid": "244797c048a78eb1e86014d6c6e48c08fb93e3cc"
   },
   "source": [
    "**Great !!**\n",
    "\n",
    "**Now we have complete set of data with no missing values, but if we looked closer into the data types we will see that\n",
    "some of the columns have an object data type. Object is a type that is non-numeric and we refer to them as categorical data. In order to pass our data into a Machine Learning model, we have to ensure that our data includes only numeric values.**\n",
    "\n",
    "***So, the next step is to convert our categorical data into numeric values.***"
   ]
  },
  {
   "cell_type": "code",
   "execution_count": 19,
   "metadata": {
    "_cell_guid": "b06c524b-1285-4a8b-bdfa-0f133e0d29b6",
    "_uuid": "5a88354af88ece409d0b9c4dd2c11a400a9eb48a",
    "collapsed": true
   },
   "outputs": [],
   "source": [
    "from sklearn.preprocessing import LabelEncoder\n",
    "number = LabelEncoder()\n",
    "\n",
    "data['Sex'] = number.fit_transform(data['Sex'].astype('str'))\n",
    "data['Embarked'] = number.fit_transform(data['Embarked'].astype('str'))"
   ]
  },
  {
   "cell_type": "markdown",
   "metadata": {
    "_cell_guid": "1ce630ac-bff4-4d16-8688-10293d64078e",
    "_uuid": "a1f8557d1dd660eb9a41b0530e1d0442dd947749"
   },
   "source": [
    "**The label encoder function we used is simply going to replace values like Male/Female into 0/1 or embark S/C/Q into 0/1/2. This way our data is still the same just expressed numerically.**"
   ]
  },
  {
   "cell_type": "code",
   "execution_count": 20,
   "metadata": {
    "_cell_guid": "d954a2f3-f342-4d0f-8d2e-1db6831fcd86",
    "_uuid": "8c43d0e29beff24ce91d16fddfe265416ee4a478"
   },
   "outputs": [
    {
     "data": {
      "text/html": [
       "<div>\n",
       "<style>\n",
       "    .dataframe thead tr:only-child th {\n",
       "        text-align: right;\n",
       "    }\n",
       "\n",
       "    .dataframe thead th {\n",
       "        text-align: left;\n",
       "    }\n",
       "\n",
       "    .dataframe tbody tr th {\n",
       "        vertical-align: top;\n",
       "    }\n",
       "</style>\n",
       "<table border=\"1\" class=\"dataframe\">\n",
       "  <thead>\n",
       "    <tr style=\"text-align: right;\">\n",
       "      <th></th>\n",
       "      <th>Survived</th>\n",
       "      <th>Pclass</th>\n",
       "      <th>Sex</th>\n",
       "      <th>Age</th>\n",
       "      <th>SibSp</th>\n",
       "      <th>Parch</th>\n",
       "      <th>Fare</th>\n",
       "      <th>Embarked</th>\n",
       "    </tr>\n",
       "  </thead>\n",
       "  <tbody>\n",
       "    <tr>\n",
       "      <th>0</th>\n",
       "      <td>0</td>\n",
       "      <td>3</td>\n",
       "      <td>1</td>\n",
       "      <td>22.0</td>\n",
       "      <td>1</td>\n",
       "      <td>0</td>\n",
       "      <td>7.2500</td>\n",
       "      <td>2</td>\n",
       "    </tr>\n",
       "    <tr>\n",
       "      <th>1</th>\n",
       "      <td>1</td>\n",
       "      <td>1</td>\n",
       "      <td>0</td>\n",
       "      <td>38.0</td>\n",
       "      <td>1</td>\n",
       "      <td>0</td>\n",
       "      <td>71.2833</td>\n",
       "      <td>0</td>\n",
       "    </tr>\n",
       "    <tr>\n",
       "      <th>2</th>\n",
       "      <td>1</td>\n",
       "      <td>3</td>\n",
       "      <td>0</td>\n",
       "      <td>26.0</td>\n",
       "      <td>0</td>\n",
       "      <td>0</td>\n",
       "      <td>7.9250</td>\n",
       "      <td>2</td>\n",
       "    </tr>\n",
       "    <tr>\n",
       "      <th>3</th>\n",
       "      <td>1</td>\n",
       "      <td>1</td>\n",
       "      <td>0</td>\n",
       "      <td>35.0</td>\n",
       "      <td>1</td>\n",
       "      <td>0</td>\n",
       "      <td>53.1000</td>\n",
       "      <td>2</td>\n",
       "    </tr>\n",
       "    <tr>\n",
       "      <th>4</th>\n",
       "      <td>0</td>\n",
       "      <td>3</td>\n",
       "      <td>1</td>\n",
       "      <td>35.0</td>\n",
       "      <td>0</td>\n",
       "      <td>0</td>\n",
       "      <td>8.0500</td>\n",
       "      <td>2</td>\n",
       "    </tr>\n",
       "  </tbody>\n",
       "</table>\n",
       "</div>"
      ],
      "text/plain": [
       "   Survived  Pclass  Sex   Age  SibSp  Parch     Fare  Embarked\n",
       "0         0       3    1  22.0      1      0   7.2500         2\n",
       "1         1       1    0  38.0      1      0  71.2833         0\n",
       "2         1       3    0  26.0      0      0   7.9250         2\n",
       "3         1       1    0  35.0      1      0  53.1000         2\n",
       "4         0       3    1  35.0      0      0   8.0500         2"
      ]
     },
     "execution_count": 20,
     "metadata": {},
     "output_type": "execute_result"
    }
   ],
   "source": [
    "#Check our Dataframe\n",
    "data.head()"
   ]
  },
  {
   "cell_type": "markdown",
   "metadata": {
    "_cell_guid": "c4657dbf-1280-4476-9dd2-8baaa5558bcc",
    "_uuid": "ad319bb9ab97a48da7896ac1b32ebc2533dd428b"
   },
   "source": [
    "**So far our training data is in form that we can pass in to a Machine Learning model, but our testing data is still in a raw form. Lets check our testing data here. Note that our testing data will have the same columns except for the labels. We are expected to generate labels from our trained model.**"
   ]
  },
  {
   "cell_type": "code",
   "execution_count": 21,
   "metadata": {
    "_cell_guid": "bc2b170f-cdde-4a61-ba30-b112d1031f4f",
    "_uuid": "fa073252b09ea0c1949b0be076957f26de0c7b04"
   },
   "outputs": [
    {
     "data": {
      "text/html": [
       "<div>\n",
       "<style>\n",
       "    .dataframe thead tr:only-child th {\n",
       "        text-align: right;\n",
       "    }\n",
       "\n",
       "    .dataframe thead th {\n",
       "        text-align: left;\n",
       "    }\n",
       "\n",
       "    .dataframe tbody tr th {\n",
       "        vertical-align: top;\n",
       "    }\n",
       "</style>\n",
       "<table border=\"1\" class=\"dataframe\">\n",
       "  <thead>\n",
       "    <tr style=\"text-align: right;\">\n",
       "      <th></th>\n",
       "      <th>PassengerId</th>\n",
       "      <th>Pclass</th>\n",
       "      <th>Name</th>\n",
       "      <th>Sex</th>\n",
       "      <th>Age</th>\n",
       "      <th>SibSp</th>\n",
       "      <th>Parch</th>\n",
       "      <th>Ticket</th>\n",
       "      <th>Fare</th>\n",
       "      <th>Cabin</th>\n",
       "      <th>Embarked</th>\n",
       "    </tr>\n",
       "  </thead>\n",
       "  <tbody>\n",
       "    <tr>\n",
       "      <th>0</th>\n",
       "      <td>892</td>\n",
       "      <td>3</td>\n",
       "      <td>Kelly, Mr. James</td>\n",
       "      <td>male</td>\n",
       "      <td>34.5</td>\n",
       "      <td>0</td>\n",
       "      <td>0</td>\n",
       "      <td>330911</td>\n",
       "      <td>7.8292</td>\n",
       "      <td>NaN</td>\n",
       "      <td>Q</td>\n",
       "    </tr>\n",
       "    <tr>\n",
       "      <th>1</th>\n",
       "      <td>893</td>\n",
       "      <td>3</td>\n",
       "      <td>Wilkes, Mrs. James (Ellen Needs)</td>\n",
       "      <td>female</td>\n",
       "      <td>47.0</td>\n",
       "      <td>1</td>\n",
       "      <td>0</td>\n",
       "      <td>363272</td>\n",
       "      <td>7.0000</td>\n",
       "      <td>NaN</td>\n",
       "      <td>S</td>\n",
       "    </tr>\n",
       "    <tr>\n",
       "      <th>2</th>\n",
       "      <td>894</td>\n",
       "      <td>2</td>\n",
       "      <td>Myles, Mr. Thomas Francis</td>\n",
       "      <td>male</td>\n",
       "      <td>62.0</td>\n",
       "      <td>0</td>\n",
       "      <td>0</td>\n",
       "      <td>240276</td>\n",
       "      <td>9.6875</td>\n",
       "      <td>NaN</td>\n",
       "      <td>Q</td>\n",
       "    </tr>\n",
       "    <tr>\n",
       "      <th>3</th>\n",
       "      <td>895</td>\n",
       "      <td>3</td>\n",
       "      <td>Wirz, Mr. Albert</td>\n",
       "      <td>male</td>\n",
       "      <td>27.0</td>\n",
       "      <td>0</td>\n",
       "      <td>0</td>\n",
       "      <td>315154</td>\n",
       "      <td>8.6625</td>\n",
       "      <td>NaN</td>\n",
       "      <td>S</td>\n",
       "    </tr>\n",
       "    <tr>\n",
       "      <th>4</th>\n",
       "      <td>896</td>\n",
       "      <td>3</td>\n",
       "      <td>Hirvonen, Mrs. Alexander (Helga E Lindqvist)</td>\n",
       "      <td>female</td>\n",
       "      <td>22.0</td>\n",
       "      <td>1</td>\n",
       "      <td>1</td>\n",
       "      <td>3101298</td>\n",
       "      <td>12.2875</td>\n",
       "      <td>NaN</td>\n",
       "      <td>S</td>\n",
       "    </tr>\n",
       "  </tbody>\n",
       "</table>\n",
       "</div>"
      ],
      "text/plain": [
       "   PassengerId  Pclass                                          Name     Sex  \\\n",
       "0          892       3                              Kelly, Mr. James    male   \n",
       "1          893       3              Wilkes, Mrs. James (Ellen Needs)  female   \n",
       "2          894       2                     Myles, Mr. Thomas Francis    male   \n",
       "3          895       3                              Wirz, Mr. Albert    male   \n",
       "4          896       3  Hirvonen, Mrs. Alexander (Helga E Lindqvist)  female   \n",
       "\n",
       "    Age  SibSp  Parch   Ticket     Fare Cabin Embarked  \n",
       "0  34.5      0      0   330911   7.8292   NaN        Q  \n",
       "1  47.0      1      0   363272   7.0000   NaN        S  \n",
       "2  62.0      0      0   240276   9.6875   NaN        Q  \n",
       "3  27.0      0      0   315154   8.6625   NaN        S  \n",
       "4  22.0      1      1  3101298  12.2875   NaN        S  "
      ]
     },
     "execution_count": 21,
     "metadata": {},
     "output_type": "execute_result"
    }
   ],
   "source": [
    "titanictest = pd.read_csv(\"../input/test.csv\")\n",
    "titanictest.head()"
   ]
  },
  {
   "cell_type": "code",
   "execution_count": 22,
   "metadata": {
    "_cell_guid": "d8ece972-cb0f-4d95-ab93-6bb72506958a",
    "_uuid": "fed9e735d1a468594a91631f9da5657854a7e953"
   },
   "outputs": [
    {
     "name": "stdout",
     "output_type": "stream",
     "text": [
      "<class 'pandas.core.frame.DataFrame'>\n",
      "RangeIndex: 418 entries, 0 to 417\n",
      "Data columns (total 11 columns):\n",
      "PassengerId    418 non-null int64\n",
      "Pclass         418 non-null int64\n",
      "Name           418 non-null object\n",
      "Sex            418 non-null object\n",
      "Age            332 non-null float64\n",
      "SibSp          418 non-null int64\n",
      "Parch          418 non-null int64\n",
      "Ticket         418 non-null object\n",
      "Fare           417 non-null float64\n",
      "Cabin          91 non-null object\n",
      "Embarked       418 non-null object\n",
      "dtypes: float64(2), int64(4), object(5)\n",
      "memory usage: 36.0+ KB\n"
     ]
    }
   ],
   "source": [
    "titanictest.info()"
   ]
  },
  {
   "cell_type": "markdown",
   "metadata": {
    "_cell_guid": "44c91a0c-532c-4364-817a-65b55d985227",
    "_uuid": "061b4b7386d571fdbefb6afc5b3530bbfb3132cd"
   },
   "source": [
    "**We model our testing data the following the same way we did with the training data. The following steps:**    \n",
    "1. Remove [ PassengerId, Name, Cabin, Ticket]\n",
    "2. Fill missing values in [Age, Fare]\n",
    "3. Convert categorical values into numeric values [Sex, Embarked]"
   ]
  },
  {
   "cell_type": "code",
   "execution_count": 23,
   "metadata": {
    "_cell_guid": "99de0fa8-533b-478b-a8ca-b8910d180173",
    "_uuid": "f46d5879aa70d8eede520fd172cf4ba447401beb"
   },
   "outputs": [
    {
     "data": {
      "text/html": [
       "<div>\n",
       "<style>\n",
       "    .dataframe thead tr:only-child th {\n",
       "        text-align: right;\n",
       "    }\n",
       "\n",
       "    .dataframe thead th {\n",
       "        text-align: left;\n",
       "    }\n",
       "\n",
       "    .dataframe tbody tr th {\n",
       "        vertical-align: top;\n",
       "    }\n",
       "</style>\n",
       "<table border=\"1\" class=\"dataframe\">\n",
       "  <thead>\n",
       "    <tr style=\"text-align: right;\">\n",
       "      <th></th>\n",
       "      <th>PassengerId</th>\n",
       "      <th>Pclass</th>\n",
       "      <th>Sex</th>\n",
       "      <th>Age</th>\n",
       "      <th>SibSp</th>\n",
       "      <th>Parch</th>\n",
       "      <th>Fare</th>\n",
       "      <th>Embarked</th>\n",
       "    </tr>\n",
       "  </thead>\n",
       "  <tbody>\n",
       "    <tr>\n",
       "      <th>0</th>\n",
       "      <td>892</td>\n",
       "      <td>3</td>\n",
       "      <td>male</td>\n",
       "      <td>34.5</td>\n",
       "      <td>0</td>\n",
       "      <td>0</td>\n",
       "      <td>7.8292</td>\n",
       "      <td>Q</td>\n",
       "    </tr>\n",
       "    <tr>\n",
       "      <th>1</th>\n",
       "      <td>893</td>\n",
       "      <td>3</td>\n",
       "      <td>female</td>\n",
       "      <td>47.0</td>\n",
       "      <td>1</td>\n",
       "      <td>0</td>\n",
       "      <td>7.0000</td>\n",
       "      <td>S</td>\n",
       "    </tr>\n",
       "    <tr>\n",
       "      <th>2</th>\n",
       "      <td>894</td>\n",
       "      <td>2</td>\n",
       "      <td>male</td>\n",
       "      <td>62.0</td>\n",
       "      <td>0</td>\n",
       "      <td>0</td>\n",
       "      <td>9.6875</td>\n",
       "      <td>Q</td>\n",
       "    </tr>\n",
       "    <tr>\n",
       "      <th>3</th>\n",
       "      <td>895</td>\n",
       "      <td>3</td>\n",
       "      <td>male</td>\n",
       "      <td>27.0</td>\n",
       "      <td>0</td>\n",
       "      <td>0</td>\n",
       "      <td>8.6625</td>\n",
       "      <td>S</td>\n",
       "    </tr>\n",
       "    <tr>\n",
       "      <th>4</th>\n",
       "      <td>896</td>\n",
       "      <td>3</td>\n",
       "      <td>female</td>\n",
       "      <td>22.0</td>\n",
       "      <td>1</td>\n",
       "      <td>1</td>\n",
       "      <td>12.2875</td>\n",
       "      <td>S</td>\n",
       "    </tr>\n",
       "  </tbody>\n",
       "</table>\n",
       "</div>"
      ],
      "text/plain": [
       "   PassengerId  Pclass     Sex   Age  SibSp  Parch     Fare Embarked\n",
       "0          892       3    male  34.5      0      0   7.8292        Q\n",
       "1          893       3  female  47.0      1      0   7.0000        S\n",
       "2          894       2    male  62.0      0      0   9.6875        Q\n",
       "3          895       3    male  27.0      0      0   8.6625        S\n",
       "4          896       3  female  22.0      1      1  12.2875        S"
      ]
     },
     "execution_count": 23,
     "metadata": {},
     "output_type": "execute_result"
    }
   ],
   "source": [
    "#Drop Columns\n",
    "Ttest = titanictest.drop(['Name', 'Ticket', 'Cabin'], axis =1)\n",
    "Ttest.head()"
   ]
  },
  {
   "cell_type": "markdown",
   "metadata": {
    "_cell_guid": "536fcc49-5e5d-4b2b-9004-7c444b83d37c",
    "_uuid": "8e1aea1e185d51c533110446ea54387388e5913a"
   },
   "source": [
    "**Fill Missing values in testing data**"
   ]
  },
  {
   "cell_type": "code",
   "execution_count": 24,
   "metadata": {
    "_cell_guid": "4c2b127a-0418-497f-be39-a14c1244b00b",
    "_uuid": "fe440e988bcb57bc1b8c56ac5ac3a259e5ba9989"
   },
   "outputs": [
    {
     "data": {
      "text/html": [
       "<div>\n",
       "<style>\n",
       "    .dataframe thead tr:only-child th {\n",
       "        text-align: right;\n",
       "    }\n",
       "\n",
       "    .dataframe thead th {\n",
       "        text-align: left;\n",
       "    }\n",
       "\n",
       "    .dataframe tbody tr th {\n",
       "        vertical-align: top;\n",
       "    }\n",
       "</style>\n",
       "<table border=\"1\" class=\"dataframe\">\n",
       "  <thead>\n",
       "    <tr style=\"text-align: right;\">\n",
       "      <th></th>\n",
       "      <th>PassengerId</th>\n",
       "      <th>Pclass</th>\n",
       "      <th>Sex</th>\n",
       "      <th>Age</th>\n",
       "      <th>SibSp</th>\n",
       "      <th>Parch</th>\n",
       "      <th>Fare</th>\n",
       "      <th>Embarked</th>\n",
       "    </tr>\n",
       "  </thead>\n",
       "  <tbody>\n",
       "    <tr>\n",
       "      <th>152</th>\n",
       "      <td>1044</td>\n",
       "      <td>3</td>\n",
       "      <td>male</td>\n",
       "      <td>60.5</td>\n",
       "      <td>0</td>\n",
       "      <td>0</td>\n",
       "      <td>NaN</td>\n",
       "      <td>S</td>\n",
       "    </tr>\n",
       "  </tbody>\n",
       "</table>\n",
       "</div>"
      ],
      "text/plain": [
       "     PassengerId  Pclass   Sex   Age  SibSp  Parch  Fare Embarked\n",
       "152         1044       3  male  60.5      0      0   NaN        S"
      ]
     },
     "execution_count": 24,
     "metadata": {},
     "output_type": "execute_result"
    }
   ],
   "source": [
    "#Fill Missing values\n",
    "Ttest[Ttest['Fare'].isnull()]"
   ]
  },
  {
   "cell_type": "code",
   "execution_count": 25,
   "metadata": {
    "_cell_guid": "424bc93e-2a46-4693-a38b-6005896ac06f",
    "_uuid": "1415bfcd7e41712744cd02252fc0052d8ee1b2e3",
    "collapsed": true
   },
   "outputs": [],
   "source": [
    "#calculate median fare\n",
    "m = Ttest[\"Fare\"].median()\n",
    "\n",
    "#Since its the only one, we can just replace it with the mean Fare\n",
    "Ttest[\"Fare\"] = Ttest[\"Fare\"].fillna(m)\n",
    "\n"
   ]
  },
  {
   "cell_type": "markdown",
   "metadata": {
    "_cell_guid": "1f4d518c-10aa-4a0b-a17e-9313d31ea0c7",
    "_uuid": "a00b057f99c62257c4dad5c3559eff94e5be380d"
   },
   "source": [
    "**Age column has got a lot of missing values, we use same way to estimate median age based on Passinger class and Embarked. Same like we did before.**"
   ]
  },
  {
   "cell_type": "code",
   "execution_count": 26,
   "metadata": {
    "_cell_guid": "53f9d0fe-5bb6-4a28-9b34-d65721e1fa99",
    "_uuid": "f6f52d57a4f2a8c1156b29110feebce8836cc157"
   },
   "outputs": [
    {
     "name": "stdout",
     "output_type": "stream",
     "text": [
      "Median age of class  1  =  42.0\n",
      "Median age of class  2  =  26.0\n",
      "Median age of class  3  =  24.0\n"
     ]
    }
   ],
   "source": [
    "#Embarked S\n",
    "s = Ttest.loc[Ttest[\"Embarked\"] == \"S\"]\n",
    "v = [1, 2, 3]\n",
    "for i in v:\n",
    "    ss = s.where(s[\"Pclass\"] == i)\n",
    "    print (\"Median age of class \",i, \" = \",ss[\"Age\"].median())"
   ]
  },
  {
   "cell_type": "code",
   "execution_count": 27,
   "metadata": {
    "_cell_guid": "c4c16d2e-3217-456c-85f8-a90b38d3d8ec",
    "_uuid": "eed877431714b86e8b1f1506451dd533869e30d7"
   },
   "outputs": [
    {
     "name": "stdout",
     "output_type": "stream",
     "text": [
      "Median age of class  1  =  43.0\n",
      "Median age of class  2  =  27.0\n",
      "Median age of class  3  =  21.0\n"
     ]
    }
   ],
   "source": [
    "#Getting Embarked C data into separte frame and work to calculate Median for each class\n",
    "c = Ttest.loc[Ttest[\"Embarked\"] == \"C\"]\n",
    "v = [1, 2, 3]\n",
    "for i in v:\n",
    "    sc = c.where(c[\"Pclass\"] == i)\n",
    "    print (\"Median age of class \",i, \" = \",sc[\"Age\"].median())"
   ]
  },
  {
   "cell_type": "code",
   "execution_count": 28,
   "metadata": {
    "_cell_guid": "f45c7d9c-64e7-4c7c-9811-b25a0e267756",
    "_uuid": "48a2b0d4f021c28ed9db238b8d8f79f7f1c70a92"
   },
   "outputs": [
    {
     "name": "stdout",
     "output_type": "stream",
     "text": [
      "Median age of class  1  =  37.0\n",
      "Median age of class  2  =  61.0\n",
      "Median age of class  3  =  24.0\n"
     ]
    }
   ],
   "source": [
    "#Getting Embarked Q data into separte frame and work to calculate Median for each class\n",
    "q = Ttest.loc[Ttest[\"Embarked\"] == \"Q\"]\n",
    "v = [1, 2, 3]\n",
    "for i in v:\n",
    "    sq = q.where(q[\"Pclass\"] == i)\n",
    "    print (\"Median age of class \",i, \" = \",sq[\"Age\"].median())"
   ]
  },
  {
   "cell_type": "markdown",
   "metadata": {
    "_cell_guid": "11221e0b-8935-40b1-9f90-d57665120792",
    "_uuid": "eea36a6eaebf93e3e5d41d26f3b83890d1baee94"
   },
   "source": [
    "*Now we know the median age of the passinger classes. We can fill the missing values in the same un-efficient way. Sorry I couldn't make it better though have tried every way I know.'*"
   ]
  },
  {
   "cell_type": "code",
   "execution_count": 29,
   "metadata": {
    "_cell_guid": "92a8f70f-e333-44ec-8328-de8ff160b33d",
    "_uuid": "1f48873b9f1f65f9cbc6e304daeb2dab976f504d"
   },
   "outputs": [
    {
     "name": "stdout",
     "output_type": "stream",
     "text": [
      "<class 'pandas.core.frame.DataFrame'>\n",
      "Int64Index: 418 entries, 0 to 410\n",
      "Data columns (total 7 columns):\n",
      "Pclass      418 non-null int64\n",
      "Sex         418 non-null object\n",
      "Age         418 non-null float64\n",
      "SibSp       418 non-null int64\n",
      "Parch       418 non-null int64\n",
      "Fare        418 non-null float64\n",
      "Embarked    418 non-null object\n",
      "dtypes: float64(2), int64(3), object(2)\n",
      "memory usage: 26.1+ KB\n"
     ]
    }
   ],
   "source": [
    "#Embark S\n",
    "s1 = Ttest[(Ttest[\"Pclass\"] == 1) & (Ttest['Embarked'] == \"S\") & (Ttest['Age'].isnull())].fillna(42)\n",
    "s2 = Ttest[(Ttest[\"Pclass\"] == 2) & (Ttest['Embarked'] == \"S\") & (Ttest['Age'].isnull())].fillna(26)\n",
    "s3 = Ttest[(Ttest[\"Pclass\"] == 3) & (Ttest['Embarked'] == \"S\") & (Ttest['Age'].isnull())].fillna(24)\n",
    "\n",
    "#Embark C\n",
    "c1 = Ttest[(Ttest[\"Pclass\"] == 1) & (Ttest['Embarked'] == \"C\") & (Ttest['Age'].isnull())].fillna(43)\n",
    "c2 = Ttest[(Ttest[\"Pclass\"] == 2) & (Ttest['Embarked'] == \"C\") & (Ttest['Age'].isnull())].fillna(27)\n",
    "c3 = Ttest[(Ttest[\"Pclass\"] == 3) & (Ttest['Embarked'] == \"C\") & (Ttest['Age'].isnull())].fillna(21)\n",
    "\n",
    "#Embark Q\n",
    "q1 = Ttest[(Ttest[\"Pclass\"] == 1) & (Ttest['Embarked'] == \"Q\") & (Ttest['Age'].isnull())].fillna(37)\n",
    "q2 = Ttest[(Ttest[\"Pclass\"] == 2) & (Ttest['Embarked'] == \"Q\") & (Ttest['Age'].isnull())].fillna(61)\n",
    "q3 = Ttest[(Ttest[\"Pclass\"] == 3) & (Ttest['Embarked'] == \"Q\") & (Ttest['Age'].isnull())].fillna(24)\n",
    "\n",
    "scq = pd.concat([s1,s2,s3,c1,c2,c3,q1,q2,q3])\n",
    "\n",
    "Ttest = Ttest.dropna(axis = 0, how = 'any')\n",
    "\n",
    "Testdata = pd.concat([Ttest, scq])\n",
    "TestdataID = pd.DataFrame(Testdata['PassengerId'], columns = ['PassengerId'])\n",
    "\n",
    "Testdata = Testdata.drop(['PassengerId'], axis =1)\n",
    "Testdata.info()"
   ]
  },
  {
   "cell_type": "code",
   "execution_count": 30,
   "metadata": {
    "_cell_guid": "0e977b6b-3339-4d8d-960d-c77326c3e101",
    "_uuid": "662ae0b28eb4138064c3e8dbbcd7f7fa3c517063",
    "collapsed": true
   },
   "outputs": [],
   "source": [
    "#Converting our categorical data inot numeric\n",
    "Testdata['Sex'] = number.fit_transform(Testdata['Sex'].astype('str'))\n",
    "Testdata['Embarked'] = number.fit_transform(Testdata['Embarked'].astype('str'))"
   ]
  },
  {
   "cell_type": "markdown",
   "metadata": {
    "_cell_guid": "13d6fc67-7b08-4322-a666-f395de16cb53",
    "_uuid": "621fb817dbcaffe7689b4d8301017942e97279e9"
   },
   "source": [
    "**Now that our both DataFrames are ready, one more thing left to do. Looking at our training data below we can see that our labels (Survived) are with the frame and it would be better to separate this column from the rest of the frame.**"
   ]
  },
  {
   "cell_type": "code",
   "execution_count": 31,
   "metadata": {
    "_cell_guid": "abff201e-0d50-482d-adbb-d3f73a70b1ca",
    "_uuid": "e46781836fd91ae97f13f732a03f30a7d9ffb3ad",
    "collapsed": true
   },
   "outputs": [],
   "source": [
    "features = ['Pclass', 'Sex', 'Age', 'SibSp', 'Parch', 'Fare', 'Embarked']\n",
    "Y_data = data['Survived'].values\n",
    "X_data = data[list(features)].values\n",
    "X_test = Testdata[list(features)].values"
   ]
  },
  {
   "cell_type": "markdown",
   "metadata": {
    "_cell_guid": "e7dc6893-5355-4cbd-ab2e-c65cf9b079c1",
    "_uuid": "e54cc353d37f3b80ea870b5925d076fa891932de"
   },
   "source": [
    "**Training Our linear SVM**"
   ]
  },
  {
   "cell_type": "code",
   "execution_count": 32,
   "metadata": {
    "_cell_guid": "c71ae565-7abe-4660-9ce4-5bd26a77d58a",
    "_uuid": "5957b5d0fc07d114e97d255651d8b62ed0af0a7a"
   },
   "outputs": [
    {
     "data": {
      "text/plain": [
       "LinearSVC(C=1.0, class_weight=None, dual=True, fit_intercept=True,\n",
       "     intercept_scaling=1, loss='squared_hinge', max_iter=1000,\n",
       "     multi_class='ovr', penalty='l2', random_state=None, tol=0.0001,\n",
       "     verbose=0)"
      ]
     },
     "execution_count": 32,
     "metadata": {},
     "output_type": "execute_result"
    }
   ],
   "source": [
    "from sklearn import svm\n",
    "lin_clf = svm.LinearSVC()\n",
    "lin_clf.fit(X_data, Y_data) "
   ]
  },
  {
   "cell_type": "code",
   "execution_count": 33,
   "metadata": {
    "_cell_guid": "f10cf682-c15f-4913-a3ea-6eab59abbb7a",
    "_uuid": "dec855eef64c03855c6526b0dd1edec07a166cfe",
    "collapsed": true
   },
   "outputs": [],
   "source": [
    "#we predict the survival of the testdata and save it\n",
    "pseudoY_test = lin_clf.predict(Testdata)"
   ]
  },
  {
   "cell_type": "markdown",
   "metadata": {
    "_cell_guid": "8934ff25-6bdc-4ff1-8270-c796986ce7cd",
    "_uuid": "6f265b574ad8fcffbec2bc16da78142c3fb95a69"
   },
   "source": [
    "**Now we have the following:**\n",
    "\n",
    "1. training data\n",
    "2. labels for training data.\n",
    "3. trained linear svm.\n",
    "4. predicted labels for test data.\n",
    "\n",
    "**Implemtation of Pseudo-labelin semi-supervised learning method**\n",
    "\n",
    "*What we should do now if to concatinate our training and testing data, training labels and predicted labels.*\n",
    "*Then retrain the model in the new data and analyze the performance.*"
   ]
  },
  {
   "cell_type": "code",
   "execution_count": 34,
   "metadata": {
    "_cell_guid": "df49ceeb-9e05-42c4-9364-2bca9ee8ed30",
    "_uuid": "f500ef497d641e81124c1984526c01a0b8767a2e"
   },
   "outputs": [
    {
     "data": {
      "text/plain": [
       "LinearSVC(C=1.0, class_weight=None, dual=True, fit_intercept=True,\n",
       "     intercept_scaling=1, loss='squared_hinge', max_iter=1000,\n",
       "     multi_class='ovr', penalty='l2', random_state=None, tol=0.0001,\n",
       "     verbose=0)"
      ]
     },
     "execution_count": 34,
     "metadata": {},
     "output_type": "execute_result"
    }
   ],
   "source": [
    "\n",
    "X = np.vstack((X_data, X_test))\n",
    "Y = np.concatenate((Y_data, pseudoY_test), axis=0)\n",
    "\n",
    "pseudo_model = svm.LinearSVC()\n",
    "pseudo_model.fit(X, Y)"
   ]
  },
  {
   "cell_type": "markdown",
   "metadata": {
    "_cell_guid": "33ade79a-57f7-4f8b-b3b0-7eb0cef1ffd6",
    "_uuid": "d0174c62bb64ba76a61f12c9ae362b7998c0d7d4"
   },
   "source": [
    "**Now we can compare the performance of the main model *lin_clf *and the *pseudo_model* as follows:**"
   ]
  },
  {
   "cell_type": "code",
   "execution_count": 35,
   "metadata": {
    "_cell_guid": "0c1e90a2-0761-4949-9251-5ac771e0cfea",
    "_uuid": "2fb28939885a94abca99af8160fc5c15ac944ddc"
   },
   "outputs": [
    {
     "name": "stdout",
     "output_type": "stream",
     "text": [
      "Accuracy of the lin_clf model:  79.4612794613 %\n",
      "Accuracy of the lin_clf model:  86.0198624905 %\n"
     ]
    }
   ],
   "source": [
    "Accuracyclf = lin_clf.score(X_data, Y_data)\n",
    "print (\"Accuracy of the lin_clf model: \", Accuracyclf*100, \"%\")\n",
    "\n",
    "Accuracypseudo = lin_clf.score(X, Y)\n",
    "print (\"Accuracy of the lin_clf model: \", Accuracypseudo*100, \"%\")"
   ]
  },
  {
   "cell_type": "markdown",
   "metadata": {
    "_cell_guid": "02b33d01-782d-4560-84e5-59bdb343003d",
    "_uuid": "21834830b304b2f8c01c32fd41177179594c7aae"
   },
   "source": [
    "**The experiment above shows that our model trained with the Pseudo-labelin semi-supervised learning method perfmored better than our linear model.  If we tried to test the performance of our method across several classifiers as below :**"
   ]
  },
  {
   "cell_type": "code",
   "execution_count": 36,
   "metadata": {
    "_cell_guid": "48cb1f0a-8ec0-42f0-8932-b0b7a9089299",
    "_uuid": "c7fe77a44a16562a6c53cf87f82e514a516ce74c"
   },
   "outputs": [
    {
     "name": "stdout",
     "output_type": "stream",
     "text": [
      "0.809014514897 KNeighborsClassifier\n",
      "0.914438502674 SVC\n",
      "0.98090145149 DecisionTreeClassifier\n",
      "0.970206264324 RandomForestClassifier\n",
      "0.877005347594 AdaBoostClassifier\n",
      "0.900687547746 GradientBoostingClassifier\n",
      "0.838808250573 GaussianNB\n",
      "0.853323147441 LogisticRegression\n",
      "0.808250572956 LinearSVC\n"
     ]
    }
   ],
   "source": [
    "from sklearn.ensemble import RandomForestClassifier, AdaBoostClassifier, GradientBoostingClassifier\n",
    "from sklearn.svm import LinearSVC, SVC\n",
    "from sklearn.neighbors import KNeighborsClassifier\n",
    "from sklearn.naive_bayes import GaussianNB\n",
    "from sklearn.linear_model import LogisticRegression, LinearRegression\n",
    "from sklearn.tree import DecisionTreeClassifier\n",
    "\n",
    "classifiers = [\n",
    "    KNeighborsClassifier(),\n",
    "    SVC(),\n",
    "    DecisionTreeClassifier(),\n",
    "    RandomForestClassifier(),\n",
    "    AdaBoostClassifier(),\n",
    "    GradientBoostingClassifier(),\n",
    "    GaussianNB(),\n",
    "    LogisticRegression(),\n",
    "    LinearSVC()]\n",
    "\n",
    "for clf in classifiers:\n",
    "    name = clf.__class__.__name__\n",
    "    clf.fit(X, Y)\n",
    "    accurracy = clf.score(X, Y)\n",
    "    print(accurracy, name)"
   ]
  },
  {
   "cell_type": "markdown",
   "metadata": {
    "_cell_guid": "bb319822-3817-4ee1-8441-b257d3b7a8b8",
    "_uuid": "d5229a1bfec61c2d8c5d2d65368ebd7ba2e8b468"
   },
   "source": [
    "**The top 2 are:**\n",
    "\n",
    "*** 97.32% DecisionTreeClassifier**\n",
    "\n",
    "*** 95.95% RandomForestClassifier**"
   ]
  },
  {
   "cell_type": "markdown",
   "metadata": {
    "_cell_guid": "d2100fc7-9324-4f98-8513-0e86973e10be",
    "_kg_hide-input": false,
    "_kg_hide-output": false,
    "_uuid": "76b0a46b1b5844756eeb1f0e65dd254388e9c066"
   },
   "source": [
    "**Note: Kaggle grader gives very weak performance for Decision Tree and Random Forest. However, I have tried with AdaBoost classifier and it performs better. The code below will take you through training and testing the AdaBoost classifier with 500 estimators.**"
   ]
  },
  {
   "cell_type": "code",
   "execution_count": 37,
   "metadata": {
    "_cell_guid": "d4741faa-560d-4f8e-8c36-c0eae1c5f9aa",
    "_uuid": "c393ee9be1d307b7c12b2275fa07b93e734a0939"
   },
   "outputs": [
    {
     "name": "stdout",
     "output_type": "stream",
     "text": [
      "Accuracy in the training data:  88.922841864 %\n"
     ]
    }
   ],
   "source": [
    "from sklearn.ensemble import GradientBoostingClassifier\n",
    "from sklearn.model_selection import cross_val_score\n",
    "from sklearn.ensemble import AdaBoostClassifier\n",
    "\n",
    "clf = AdaBoostClassifier(n_estimators=500)\n",
    "scores = cross_val_score(clf, X, Y)\n",
    "scores.mean()\n",
    "clf.fit(X, Y)\n",
    "\n",
    "Accuracy = clf.score(X, Y)\n",
    "print (\"Accuracy in the training data: \", Accuracy*100, \"%\")\n",
    "\n",
    "prediction = clf.predict(X_test)\n",
    "dfPrediction = pd.DataFrame(data=prediction,columns=['Survived'])\n",
    "dfsubmit = pd.concat([TestdataID['PassengerId'], dfPrediction['Survived']], axis = 1, join_axes=[TestdataID['PassengerId'].index])\n",
    "dfsubmit = dfsubmit.reset_index(drop=True)\n",
    "TestPredict = dfsubmit.to_csv('TestPredictADABOOST.csv')"
   ]
  },
  {
   "cell_type": "markdown",
   "metadata": {
    "_cell_guid": "7f155603-f226-4042-9443-a6a1cd334629",
    "_uuid": "18afff6c37d6da8f8c8c54a4f423710415dbb22b"
   },
   "source": []
  }
 ],
 "metadata": {
  "kernelspec": {
   "display_name": "Python 3",
   "language": "python",
   "name": "python3"
  },
  "language_info": {
   "codemirror_mode": {
    "name": "ipython",
    "version": 3
   },
   "file_extension": ".py",
   "mimetype": "text/x-python",
   "name": "python",
   "nbconvert_exporter": "python",
   "pygments_lexer": "ipython3",
   "version": "3.5.4"
  }
 },
 "nbformat": 4,
 "nbformat_minor": 1
}
